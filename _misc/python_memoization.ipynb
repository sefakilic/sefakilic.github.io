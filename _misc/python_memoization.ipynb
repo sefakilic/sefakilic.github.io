{
 "metadata": {
  "name": ""
 },
 "nbformat": 3,
 "nbformat_minor": 0,
 "worksheets": [
  {
   "cells": [
    {
     "cell_type": "markdown",
     "source": [
      "# Memoization in Python\n",
      "\n",
      "Although we always want our code to be fast as lightning, it is sometimes\n",
      "inevitable to have some tasks, implemented as functions, that are\n",
      "computationally expensive. Welcome to the real world. If the function needs to\n",
      "be run only once for a specific input, we can just run it and wait, hopefully\n",
      "not too long. However, if it needs to be run with the same input many times, it\n",
      "may be useful to store the output of the function to avoid wasting clock cycles.\n",
      "\n",
      "One way to avoid running the same function with the same input multiple times is\n",
      "to save the output to a file. For subsuquent runs, the output file is read and\n",
      "the result is returned without running the entire function. Although this\n",
      "approach may be useful and good enough for some cases, we will implement more\n",
      "generalized and elegant approach using\n",
      "[memoization](https://en.wikipedia.org/wiki/Memoization) and [Python function\n",
      "decorators](http://simeonfranklin.com/blog/2012/jul/1/python-decorators-in-12-steps/).\n",
      "\n",
      "Memoization is just a fancy word for keeping the result of expensive function\n",
      "calls and restoring it for subsequent function calls with the same input. We\n",
      "assume that our function must always evaluate the same result for a given\n",
      "input. In other words, it should not have any side effect on the output. For\n",
      "example, while the function `len(x)` is pure (i.e. it returns the same value\n",
      "given the same list), the function `random()` is not (i.e. it returns different\n",
      "value every time it is called). Let's give another impure function example."
     ]
    },
    {
     "cell_type": "code",
     "collapsed": false,
     "input": [
      "x = 1\n",
      "\n",
      "def add_x(y):\n",
      "    return x + y\n",
      "\n",
      "# let's run add_x with input 1\n",
      "print add_x(1)\n",
      "\n",
      "# let's change the value for x and run add_x(1) again\n",
      "x = 2\n",
      "print add_x(1)"
     ],
     "language": "python",
     "outputs": [
      {
       "output_type": "stream",
       "stream": "stdout",
       "text": [
        "2\n",
        "3\n"
       ]
      }
     ],
     "prompt_number": 1
    },
    {
     "cell_type": "markdown",
     "source": [
      "As you see, the function `add_x` is called with the same argument, yet returns\n",
      "different values.\n",
      "\n",
      "Although there are some pure programming languages (e.g. Haskell), Python is not\n",
      "one of them and allows the user to define impure functions. For our memoization\n",
      "implementation, we assume that our function does not have any side effect."
     ]
    },
    {
     "cell_type": "markdown",
     "source": [
      "# Fibonacci numbers\n",
      "\n",
      "[Fibonacci numbers](https://en.wikipedia.org/wiki/Fibonacci_number) are the\n",
      "series of numbers 0, 1, 1, 2, 3, 5, 8, 13, 21, 35, 55, ... They are recursively\n",
      "defined as\n",
      "\n",
      "$$\n",
      "F(0) = 0\\\\\n",
      "F(1) = 1\\\\\n",
      "F(n) = F(n-1) + F(n-2), n > 2\n",
      "$$\n",
      "\n",
      "Although we can efficiently compute the Fibonacci number for a given $n$,\n",
      "iteratively or using closed-form expression, we will use the computationally\n",
      "expensive version. After all, the whole point is to make it faster using\n",
      "memoization technique."
     ]
    },
    {
     "cell_type": "code",
     "collapsed": false,
     "input": [
      "def fib(n):\n",
      "    if n < 2:\n",
      "        return n\n",
      "    return fib(n-1) + fib(n-2)"
     ],
     "language": "python",
     "outputs": [],
     "prompt_number": 2
    },
    {
     "cell_type": "markdown",
     "source": [
      "This function looks OK at first, but it performs terrible for large values of\n",
      "n. Why? Consider case $n=5$. `fib(5)` will call `fib(4)` and `fib(3)` . These\n",
      "two functions will recursively call `fib` by decrementing $n$. `fib(4)` will\n",
      "call `fib(3)` and `fib(2)`, and `fib(3)` will call `fib(2)` and `fib(1)`. Can\n",
      "you see the problem now? The function `fib(3)` would be called twice, `fib(2)`\n",
      "would be called three times! This gets much worse for larger values of\n",
      "$n$. Let's modify the function with `print` statements and call it for $n=5$."
     ]
    },
    {
     "cell_type": "code",
     "collapsed": false,
     "input": [
      "def fib(n, msg=False):\n",
      "    if msg:\n",
      "       print \"Calling fib(%d)\" % n\n",
      "    if n < 2:\n",
      "        return n\n",
      "    return fib(n-1, msg) + fib(n-2, msg)\n",
      "\n",
      "fib(5, msg=True)"
     ],
     "language": "python",
     "outputs": [
      {
       "output_type": "stream",
       "stream": "stdout",
       "text": [
        "Calling fib(5)\n",
        "Calling fib(4)\n",
        "Calling fib(3)\n",
        "Calling fib(2)\n",
        "Calling fib(1)\n",
        "Calling fib(0)\n",
        "Calling fib(1)\n",
        "Calling fib(2)\n",
        "Calling fib(1)\n",
        "Calling fib(0)\n",
        "Calling fib(3)\n",
        "Calling fib(2)\n",
        "Calling fib(1)\n",
        "Calling fib(0)\n",
        "Calling fib(1)\n"
       ]
      },
      {
       "output_type": "pyout",
       "prompt_number": 3,
       "text": [
        "5"
       ]
      }
     ],
     "prompt_number": 3
    },
    {
     "cell_type": "markdown",
     "source": [
      "As you see, the function `fib` was called with same arguments again and\n",
      "again. Since `fib` is a pure function, it returns the same value if called with\n",
      "the same argument. Perfect for caching results and use already available results\n",
      "when needed!"
     ]
    },
    {
     "cell_type": "markdown",
     "source": [
      "# Function decorators\n",
      "\n",
      "In Python, functions are first-class citizens which means that they can be\n",
      "passed as arguments to or returned by other functions.\n",
      "\n",
      "Suppose we have a function called `factorial` that returns $n!$ for given $n$.\n"
     ]
    },
    {
     "cell_type": "code",
     "collapsed": false,
     "input": [
      "def factorial(n):\n",
      "    return reduce(lambda x, y: x*y, xrange(1, n+1))\n",
      "\n",
      "# 5! = 120\n",
      "factorial(5)"
     ],
     "language": "python",
     "outputs": [
      {
       "output_type": "pyout",
       "prompt_number": 4,
       "text": [
        "120"
       ]
      }
     ],
     "prompt_number": 4
    },
    {
     "cell_type": "markdown",
     "source": [
      "Suppose we want a function to print messages when it is called. We can have something like this."
     ]
    },
    {
     "cell_type": "code",
     "collapsed": false,
     "input": [
      "def bad_factorial(n):\n",
      "    print \"Calling factorial(%d)\" % n\n",
      "    return reduce(lambda x, y: x*y, xrange(1, n+1))\n",
      "\n",
      "# 5! = 120\n",
      "bad_factorial(5)"
     ],
     "language": "python",
     "outputs": [
      {
       "output_type": "stream",
       "stream": "stdout",
       "text": [
        "Calling factorial(5)\n"
       ]
      },
      {
       "output_type": "pyout",
       "prompt_number": 5,
       "text": [
        "120"
       ]
      }
     ],
     "prompt_number": 5
    },
    {
     "cell_type": "markdown",
     "source": [
      "That was easy, right? However, what if we have another function that we want to\n",
      "print message when it is called. Just modify the function to have a print\n",
      "statement. Another one? You see, this is getting boring. There must be some neat\n",
      "way to do this.\n",
      "\n",
      "As we said earlier, functions can be passed as arguments and returned by other\n",
      "functions. Let's define a function called `logger` which gets a function as\n",
      "argument `func` and modifies it so that it will print a message when it is\n",
      "called.\n"
     ]
    },
    {
     "cell_type": "code",
     "collapsed": false,
     "input": [
      "def logger(func):\n",
      "    def func_with_msg(*args, **kwargs):\n",
      "        print \"Calling %s(%s,%s)\" % (func.__name__, args, kwargs)\n",
      "        return func(*args, **kwargs)\n",
      "    \n",
      "    return func_with_msg\n",
      "\n",
      "good_factorial = logger(factorial)\n",
      "\n",
      "# Call modified factorial function\n",
      "good_factorial(5)\n"
     ],
     "language": "python",
     "outputs": [
      {
       "output_type": "stream",
       "stream": "stdout",
       "text": [
        "Calling factorial((5,),{})\n"
       ]
      },
      {
       "output_type": "pyout",
       "prompt_number": 6,
       "text": [
        "120"
       ]
      }
     ],
     "prompt_number": 6
    },
    {
     "cell_type": "markdown",
     "source": [
      "`*args` and `**kwargs` enable us to define a function that accepts arbitrary\n",
      "number of parameters. You can read more\n",
      "[here](https://docs.python.org/2.7/tutorial/controlflow.html#more-on-defining-functions). Now\n",
      "we can use call `logger` with any of our functions that needs to print message\n",
      "when called.\n",
      "\n",
      "The shortcut for applying a decorator function like `logger` to any function is\n",
      "to prepend the function with the symbol `@` and the decorator function name."
     ]
    },
    {
     "cell_type": "code",
     "collapsed": false,
     "input": [
      "@logger\n",
      "def better_factorial(n):\n",
      "    return reduce(lambda x, y: x*y, xrange(1, n+1))\n",
      "print better_factorial(5)\n"
     ],
     "language": "python",
     "outputs": [
      {
       "output_type": "stream",
       "stream": "stdout",
       "text": [
        "Calling better_factorial((5,),{})\n",
        "120\n"
       ]
      }
     ],
     "prompt_number": 7
    },
    {
     "cell_type": "markdown",
     "source": [
      "which is equivalent to"
     ]
    },
    {
     "cell_type": "code",
     "collapsed": false,
     "input": [
      "good_factorial(5)"
     ],
     "language": "python",
     "outputs": [
      {
       "output_type": "stream",
       "stream": "stdout",
       "text": [
        "Calling factorial((5,),{})\n"
       ]
      },
      {
       "output_type": "pyout",
       "prompt_number": 8,
       "text": [
        "120"
       ]
      }
     ],
     "prompt_number": 8
    },
    {
     "cell_type": "markdown",
     "source": [
      "# Closures\n",
      "\n",
      "A closure in Python is a function that has access to its enclosing scope. There are many good "
     ]
    },
    {
     "cell_type": "code",
     "collapsed": false,
     "input": [
      "def makeInc(x):\n",
      "    def inc(y):\n",
      "        # inc has access to the x which is defined in makeInc (the enclosing\n",
      "        # scope)\n",
      "        return x + y\n",
      "    return inc\n",
      "\n",
      "inc5 = makeInc(5)\n",
      "inc10 = makeInc(10)\n",
      "\n",
      "print inc5(3)\n",
      "print inc10(3)"
     ],
     "language": "python",
     "outputs": [
      {
       "output_type": "stream",
       "stream": "stdout",
       "text": [
        "8\n",
        "13\n"
       ]
      }
     ],
     "prompt_number": 9
    },
    {
     "cell_type": "markdown",
     "source": [
      "And the interesting part is that the function has access to its enclosing scope\n",
      "_even_ the parent function is no longer in the memory.\n"
     ]
    },
    {
     "cell_type": "code",
     "collapsed": false,
     "input": [
      "makeInc"
     ],
     "language": "python",
     "outputs": [
      {
       "output_type": "pyout",
       "prompt_number": 10,
       "text": [
        "<function __main__.makeInc>"
       ]
      }
     ],
     "prompt_number": 10
    },
    {
     "cell_type": "code",
     "collapsed": false,
     "input": [
      "del makeInc"
     ],
     "language": "python",
     "outputs": [],
     "prompt_number": 11
    },
    {
     "cell_type": "code",
     "collapsed": false,
     "input": [
      "print inc5(2)"
     ],
     "language": "python",
     "outputs": [
      {
       "output_type": "stream",
       "stream": "stdout",
       "text": [
        "7\n"
       ]
      }
     ],
     "prompt_number": 12
    },
    {
     "cell_type": "markdown",
     "source": [
      "# Implementing memoization\n",
      "\n",
      "Now we can use function decorators and closures to build the memoization for any\n",
      "given function. As an example, let's use `fibonacci` function again."
     ]
    },
    {
     "cell_type": "code",
     "collapsed": false,
     "input": [
      "def not_working_memoize(func):\n",
      "    # Make memoization available for a given function func\n",
      "    memo = {}\n",
      "    def wrapper(*args, **kwargs):\n",
      "        if (args, kwargs) not in memo:\n",
      "           memo[(args, kwargs)] = func(*args, **kwargs)\n",
      "        return memo[(args)]\n",
      "    return wrapper"
     ],
     "language": "python",
     "outputs": [],
     "prompt_number": 13
    },
    {
     "cell_type": "code",
     "collapsed": false,
     "input": [
      "@not_working_memoize\n",
      "def memoized_fibonacci(n):\n",
      "    if n < 2:\n",
      "       return 1\n",
      "    return memoized_fibonacci(n-1) + memoized_fibonacci(n-2)\n",
      "\n",
      "memoized_fibonacci(10)\n"
     ],
     "language": "python",
     "outputs": [
      {
       "ename": "TypeError",
       "evalue": "unhashable type: 'dict'",
       "output_type": "pyerr",
       "traceback": [
        "\u001b[1;31m---------------------------------------------------------------------------\u001b[0m\n\u001b[1;31mTypeError\u001b[0m                                 Traceback (most recent call last)",
        "\u001b[1;32m<ipython-input-14-e6008084baab>\u001b[0m in \u001b[0;36m<module>\u001b[1;34m()\u001b[0m\n\u001b[0;32m      5\u001b[0m     \u001b[1;32mreturn\u001b[0m \u001b[0mmemoized_fibonacci\u001b[0m\u001b[1;33m(\u001b[0m\u001b[0mn\u001b[0m\u001b[1;33m-\u001b[0m\u001b[1;36m1\u001b[0m\u001b[1;33m)\u001b[0m \u001b[1;33m+\u001b[0m \u001b[0mmemoized_fibonacci\u001b[0m\u001b[1;33m(\u001b[0m\u001b[0mn\u001b[0m\u001b[1;33m-\u001b[0m\u001b[1;36m2\u001b[0m\u001b[1;33m)\u001b[0m\u001b[1;33m\u001b[0m\u001b[0m\n\u001b[0;32m      6\u001b[0m \u001b[1;33m\u001b[0m\u001b[0m\n\u001b[1;32m----> 7\u001b[1;33m \u001b[0mmemoized_fibonacci\u001b[0m\u001b[1;33m(\u001b[0m\u001b[1;36m10\u001b[0m\u001b[1;33m)\u001b[0m\u001b[1;33m\u001b[0m\u001b[0m\n\u001b[0m",
        "\u001b[1;32m<ipython-input-13-d89f8e213b23>\u001b[0m in \u001b[0;36mwrapper\u001b[1;34m(*args, **kwargs)\u001b[0m\n\u001b[0;32m      3\u001b[0m     \u001b[0mmemo\u001b[0m \u001b[1;33m=\u001b[0m \u001b[1;33m{\u001b[0m\u001b[1;33m}\u001b[0m\u001b[1;33m\u001b[0m\u001b[0m\n\u001b[0;32m      4\u001b[0m     \u001b[1;32mdef\u001b[0m \u001b[0mwrapper\u001b[0m\u001b[1;33m(\u001b[0m\u001b[1;33m*\u001b[0m\u001b[0margs\u001b[0m\u001b[1;33m,\u001b[0m \u001b[1;33m**\u001b[0m\u001b[0mkwargs\u001b[0m\u001b[1;33m)\u001b[0m\u001b[1;33m:\u001b[0m\u001b[1;33m\u001b[0m\u001b[0m\n\u001b[1;32m----> 5\u001b[1;33m         \u001b[1;32mif\u001b[0m \u001b[1;33m(\u001b[0m\u001b[0margs\u001b[0m\u001b[1;33m,\u001b[0m \u001b[0mkwargs\u001b[0m\u001b[1;33m)\u001b[0m \u001b[1;32mnot\u001b[0m \u001b[1;32min\u001b[0m \u001b[0mmemo\u001b[0m\u001b[1;33m:\u001b[0m\u001b[1;33m\u001b[0m\u001b[0m\n\u001b[0m\u001b[0;32m      6\u001b[0m            \u001b[0mmemo\u001b[0m\u001b[1;33m[\u001b[0m\u001b[1;33m(\u001b[0m\u001b[0margs\u001b[0m\u001b[1;33m,\u001b[0m \u001b[0mkwargs\u001b[0m\u001b[1;33m)\u001b[0m\u001b[1;33m]\u001b[0m \u001b[1;33m=\u001b[0m \u001b[0mfunc\u001b[0m\u001b[1;33m(\u001b[0m\u001b[1;33m*\u001b[0m\u001b[0margs\u001b[0m\u001b[1;33m,\u001b[0m \u001b[1;33m**\u001b[0m\u001b[0mkwargs\u001b[0m\u001b[1;33m)\u001b[0m\u001b[1;33m\u001b[0m\u001b[0m\n\u001b[0;32m      7\u001b[0m         \u001b[1;32mreturn\u001b[0m \u001b[0mmemo\u001b[0m\u001b[1;33m[\u001b[0m\u001b[1;33m(\u001b[0m\u001b[0margs\u001b[0m\u001b[1;33m)\u001b[0m\u001b[1;33m]\u001b[0m\u001b[1;33m\u001b[0m\u001b[0m\n",
        "\u001b[1;31mTypeError\u001b[0m: unhashable type: 'dict'"
       ]
      }
     ],
     "prompt_number": 14
    },
    {
     "cell_type": "markdown",
     "source": [
      "This will not work. The reason is that we are trying to build `memo` dictionary\n",
      "and the key for dictionary is the tuple `(args, kwargs)` which are a tuple and a\n",
      "dictionary. We are getting `TypeError: unhashable type: 'dict'` error since\n",
      "`kwargs` is a dictionary. To make it work, we convert the dictionary `kwargs`\n",
      "into list of tuples where each tuple is a key and its value from the dictionary."
     ]
    },
    {
     "cell_type": "code",
     "collapsed": false,
     "input": [
      "debug = True\n",
      "def hopefully_working_memoize(func):\n",
      "    memo = {}\n",
      "    def wrapper(*args, **kwargs):\n",
      "        k = tuple(list(args) + kwargs.items())\n",
      "        if debug:\n",
      "           print \"key\", k,\n",
      "           if k not in memo:\n",
      "              print \"not\",\n",
      "           print \"in memory\"\n",
      "        if k not in memo:\n",
      "           memo[k] = func(*args, **kwargs)\n",
      "        return memo[k]\n",
      "    return wrapper\n"
     ],
     "language": "python",
     "outputs": [],
     "prompt_number": 15
    },
    {
     "cell_type": "code",
     "collapsed": false,
     "input": [
      "@hopefully_working_memoize\n",
      "def memoized_fibonacci(n):\n",
      "    if n < 2:\n",
      "       return n\n",
      "    return memoized_fibonacci(n-1) + memoized_fibonacci(n-2)\n",
      "\n",
      "memoized_fibonacci(8)"
     ],
     "language": "python",
     "outputs": [
      {
       "output_type": "stream",
       "stream": "stdout",
       "text": [
        "key (8,) not in memory\n",
        "key (7,) not in memory\n",
        "key (6,) not in memory\n",
        "key (5,) not in memory\n",
        "key (4,) not in memory\n",
        "key (3,) not in memory\n",
        "key (2,) not in memory\n",
        "key (1,) not in memory\n",
        "key (0,) not in memory\n",
        "key (1,) in memory\n",
        "key (2,) in memory\n",
        "key (3,) in memory\n",
        "key (4,) in memory\n",
        "key (5,) in memory\n",
        "key (6,) in memory\n"
       ]
      },
      {
       "output_type": "pyout",
       "prompt_number": 16,
       "text": [
        "21"
       ]
      }
     ],
     "prompt_number": 16
    },
    {
     "cell_type": "markdown",
     "source": [
      "As you see above, initial function calls are actually executed since they have\n",
      "not been executed and stored in the memory before. As the function calls itself\n",
      "recursively for smaller `n` values, it needs the `fibonacci(n)` which is\n",
      "computed before so it can be accessed easily without doing the computation again.\n",
      "\n",
      "And if we ever call `memoized_fibonacci(n)` again for the same `n`, we\n",
      "immediately get the result."
     ]
    },
    {
     "cell_type": "code",
     "collapsed": false,
     "input": [
      "memoized_fibonacci(8)"
     ],
     "language": "python",
     "outputs": [
      {
       "output_type": "stream",
       "stream": "stdout",
       "text": [
        "key (8,) in memory\n"
       ]
      },
      {
       "output_type": "pyout",
       "prompt_number": 17,
       "text": [
        "21"
       ]
      }
     ],
     "prompt_number": 17
    },
    {
     "cell_type": "markdown",
     "source": [
      "Let's make a few tests. The first call is for the inefficient implementation of\n",
      "the Fibonacci numbers. The call for even small `n` values takes quite some time."
     ]
    },
    {
     "cell_type": "code",
     "collapsed": false,
     "input": [
      "import timeit\n",
      "timeit.timeit('fib(9)', setup=\"from __main__ import fib\")"
     ],
     "language": "python",
     "outputs": [
      {
       "output_type": "pyout",
       "prompt_number": 18,
       "text": [
        "10.400588989257812"
       ]
      }
     ],
     "prompt_number": 18
    },
    {
     "cell_type": "markdown",
     "source": [
      "Let's call the memoized function with the same value of `n`."
     ]
    },
    {
     "cell_type": "code",
     "collapsed": false,
     "input": [
      "debug = False\n",
      "timeit.timeit('memoized_fibonacci(9)', setup=\"from __main__ import memoized_fibonacci\")"
     ],
     "language": "python",
     "outputs": [
      {
       "output_type": "pyout",
       "prompt_number": 19,
       "text": [
        "0.6428170204162598"
       ]
      }
     ],
     "prompt_number": 19
    },
    {
     "cell_type": "markdown",
     "source": [
      "The nice thing about using memoization as described is that it is general and\n",
      "can be used for any computationally-expensive function easily!"
     ]
    },
    {
     "cell_type": "markdown",
     "source": [
      "# About this post\n",
      "\n",
      "This post is powered by [IPython Notebook](http://ipython.org/notebook.html) To\n",
      "use IPython notebook with Emacs, try [Emacs IPython Notebook\n",
      "package](http://tkf.github.io/emacs-ipython-notebook/). The original notebook\n",
      "file is available\n",
      "[here](https://github.com/sefakilic/sefakilic.github.io/tree/master/_misc/python_memoization.ipynb)"
     ]
    }
   ]
  }
 ]
}